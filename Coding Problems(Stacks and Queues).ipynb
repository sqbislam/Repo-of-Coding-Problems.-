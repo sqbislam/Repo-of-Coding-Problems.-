{
 "cells": [
  {
   "cell_type": "markdown",
   "metadata": {},
   "source": [
    "## Stack class using Node\n"
   ]
  },
  {
   "cell_type": "code",
   "execution_count": 44,
   "metadata": {},
   "outputs": [],
   "source": [
    "class Node:\n",
    "    def __init__(self, data):\n",
    "        self.data = data\n",
    "        self.next: Node = None\n",
    "        \n",
    "class Stack:\n",
    "    \n",
    "    def __init__(self):\n",
    "        self.top:Node = None\n",
    "    \n",
    "    def pop(self):\n",
    "        if(self.top == None):\n",
    "            raise Exception(\"Stack is Empty cannot Pop\")\n",
    "        else:\n",
    "            temp:Node = self.top\n",
    "            self.top = self.top.next\n",
    "            \n",
    "            return temp.data\n",
    "             \n",
    "    def push(self,data):\n",
    "        if(self.top == None):\n",
    "            self.top = Node(data)\n",
    "            \n",
    "        else:\n",
    "            newNode = Node(data)\n",
    "            newNode.next = self.top\n",
    "            self.top = newNode\n",
    "        \n",
    "    def peek(self):\n",
    "        if(self.top == None):\n",
    "             raise Exception(\"Stack is Empty cannot Peek\")\n",
    "        else:\n",
    "            return self.top.data\n",
    "        \n",
    "    def isEmpty(self):\n",
    "        return (self.top == None)\n",
    "    \n",
    "    def __repr__(self):\n",
    "        node = self.top\n",
    "        res = []\n",
    "        while(node != None):\n",
    "            res.append(node.data)\n",
    "            node = node.next\n",
    "        return str(res)\n",
    "        "
   ]
  },
  {
   "cell_type": "code",
   "execution_count": 65,
   "metadata": {},
   "outputs": [],
   "source": [
    "stack = Stack()"
   ]
  },
  {
   "cell_type": "code",
   "execution_count": 66,
   "metadata": {},
   "outputs": [
    {
     "data": {
      "text/plain": [
       "4"
      ]
     },
     "execution_count": 66,
     "metadata": {},
     "output_type": "execute_result"
    }
   ],
   "source": [
    "stack.push(4)\n",
    "stack.push(3)\n",
    "stack.push(4)\n",
    "stack.push(4)\n",
    "stack.peek()"
   ]
  },
  {
   "cell_type": "code",
   "execution_count": 67,
   "metadata": {},
   "outputs": [
    {
     "name": "stdout",
     "output_type": "stream",
     "text": [
      "[4, 4, 3, 4]\n"
     ]
    }
   ],
   "source": [
    "print(stack)"
   ]
  },
  {
   "cell_type": "code",
   "execution_count": null,
   "metadata": {},
   "outputs": [],
   "source": []
  },
  {
   "cell_type": "code",
   "execution_count": null,
   "metadata": {},
   "outputs": [],
   "source": []
  }
 ],
 "metadata": {
  "kernelspec": {
   "display_name": "Python 3",
   "language": "python",
   "name": "python3"
  },
  "language_info": {
   "codemirror_mode": {
    "name": "ipython",
    "version": 3
   },
   "file_extension": ".py",
   "mimetype": "text/x-python",
   "name": "python",
   "nbconvert_exporter": "python",
   "pygments_lexer": "ipython3",
   "version": "3.7.3"
  }
 },
 "nbformat": 4,
 "nbformat_minor": 2
}

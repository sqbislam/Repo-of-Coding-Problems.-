{
 "cells": [
  {
   "cell_type": "markdown",
   "metadata": {},
   "source": [
    "## Coding Problems in Python"
   ]
  },
  {
   "cell_type": "markdown",
   "metadata": {},
   "source": [
    "These are my solutions for the problems given in \"Cracking the Coding interview by Gayle Laakmann McDowell\".\n",
    "It is an amazing book. Support the author by buying the book. Taught me the basics and more of approching and solving coding problems\n"
   ]
  },
  {
   "cell_type": "markdown",
   "metadata": {},
   "source": [
    "### String And Arrays"
   ]
  },
  {
   "cell_type": "markdown",
   "metadata": {},
   "source": [
    "### 1.1 Check Unique chars"
   ]
  },
  {
   "cell_type": "code",
   "execution_count": 1,
   "metadata": {
    "slideshow": {
     "slide_type": "-"
    }
   },
   "outputs": [],
   "source": [
    "def isUnique(str):\n",
    "    char_set = [0] * 128 #128 chars in ascii\n",
    "    str = list(str)\n",
    "    for i in range(len(str)):\n",
    "        char = str[i]\n",
    "        char_idx = ord(char) - ord('a') ## char to index with 'a' being in 0-th index\n",
    "        if(char_set[char_idx] == 0):\n",
    "            char_set[char_idx] += 1\n",
    "        else:\n",
    "            return False\n",
    "        \n",
    "    return True"
   ]
  },
  {
   "cell_type": "markdown",
   "metadata": {},
   "source": [
    "#### Test for 1.1"
   ]
  },
  {
   "cell_type": "code",
   "execution_count": 9,
   "metadata": {},
   "outputs": [
    {
     "name": "stdout",
     "output_type": "stream",
     "text": [
      "Hello:  False\n",
      "chamber:  True\n",
      "Unique$$:  False\n"
     ]
    }
   ],
   "source": [
    "print(\"Hello: \", isUnique(\"Hello\"))\n",
    "print(\"chamber: \",isUnique(\"chamber\"))\n",
    "print(\"Unique$$: \", isUnique(\"Unique$$\"))"
   ]
  },
  {
   "cell_type": "markdown",
   "metadata": {},
   "source": [
    "---"
   ]
  },
  {
   "cell_type": "markdown",
   "metadata": {},
   "source": [
    "### 1.2 Check if one String is permutation of the other"
   ]
  },
  {
   "cell_type": "code",
   "execution_count": 16,
   "metadata": {},
   "outputs": [],
   "source": [
    "def checkPermutation(str1, str2):\n",
    "    str1 = list(str1)\n",
    "    str2 = list(str2)\n",
    "    char_set = [0]* 128 # Array of chars in ASCII\n",
    "    #if lengths of two strings not same they cannot be permutations\n",
    "    if(len(str1) != len(str2)): return False \n",
    "    \n",
    "    for char in str1:\n",
    "        char_idx = ord(char) - ord('a') # Convert char to index with 'a' in 0-th index\n",
    "        char_set[char_idx]+=1\n",
    "        \n",
    "    for char in str2:\n",
    "        char_idx = ord(char) - ord('a') # Convert char to index with 'a' in 0-th index\n",
    "        char_set[char_idx] -= 1\n",
    "        if(char_set[char_idx] < 0):\n",
    "            return False\n",
    "    return True\n",
    "\n",
    "        "
   ]
  },
  {
   "cell_type": "markdown",
   "metadata": {},
   "source": [
    "#### Test for 1.2"
   ]
  },
  {
   "cell_type": "code",
   "execution_count": 24,
   "metadata": {},
   "outputs": [
    {
     "name": "stdout",
     "output_type": "stream",
     "text": [
      "True\n",
      "False\n",
      "True\n"
     ]
    }
   ],
   "source": [
    "print(checkPermutation(\"abafsd\", \"fsdaba\"))\n",
    "print(checkPermutation(\"fasdad\", \"fsdaba\"))\n",
    "print(checkPermutation(\"homer\", \"remoh\"))\n"
   ]
  },
  {
   "cell_type": "markdown",
   "metadata": {},
   "source": [
    "---"
   ]
  },
  {
   "cell_type": "markdown",
   "metadata": {},
   "source": [
    "### 1.3 Replaces spaces in string with '%20'\n"
   ]
  },
  {
   "cell_type": "markdown",
   "metadata": {},
   "source": [
    "USE CONCEPT OF JAVA OR C++ WITH FIXED STRING ARRAY LENGTH"
   ]
  },
  {
   "cell_type": "code",
   "execution_count": 5,
   "metadata": {},
   "outputs": [],
   "source": [
    "def URLify(str):\n",
    "    str = list(str)\n",
    "    count = 0\n",
    "    res = ''\n",
    "    #Check for no of spaces in string\n",
    "    for i  in range(len(str)):\n",
    "        if(str[i] == ' '):\n",
    "            count +=1\n",
    "    #create new String with enough space for each space '%20' is added so 2 times space needed\n",
    "    new_str = [0] * (len(str) + (count * 2))\n",
    "    j=0\n",
    "    for i in range(len(str)):\n",
    "        if(str[i] !=' '):\n",
    "            new_str[j] = str[i]\n",
    "            j+=1\n",
    "        else:\n",
    "            new_str[j] = \"%\"\n",
    "            new_str[j+1] = \"2\"\n",
    "            new_str[j+2] = \"0\"\n",
    "            j+=3\n",
    "    \n",
    "    for s in new_str:\n",
    "        res += s\n",
    "    print(res)\n",
    "            \n",
    "    "
   ]
  },
  {
   "cell_type": "markdown",
   "metadata": {},
   "source": [
    "#### Test for 1.3"
   ]
  },
  {
   "cell_type": "code",
   "execution_count": 6,
   "metadata": {},
   "outputs": [
    {
     "name": "stdout",
     "output_type": "stream",
     "text": [
      "%20this%20is%20a%20string%20with%20seven%20spaces\n"
     ]
    }
   ],
   "source": [
    "URLify(\" this is a string with seven spaces\")"
   ]
  },
  {
   "cell_type": "markdown",
   "metadata": {},
   "source": [
    "---"
   ]
  },
  {
   "cell_type": "markdown",
   "metadata": {},
   "source": [
    "### 1.4 Check if String is permutation of Palindrome"
   ]
  },
  {
   "cell_type": "code",
   "execution_count": 68,
   "metadata": {},
   "outputs": [],
   "source": [
    "def checkPalindromePerm(str):\n",
    "    str = list(str)\n",
    "    char_set = [0] * 256 #number of Chars in ASCII\n",
    "    for char in str:\n",
    "        char_idx = ord(char) - ord('a')\n",
    "        char_set[char_idx] += 1\n",
    "    \n",
    "    foundOdd =False\n",
    "    \n",
    "    # In Palindrome only zero/one odd number of chars can be found.\n",
    "    \n",
    "    for i in range(len(char_set)):\n",
    "        \n",
    "        if((char_set[i] % 2) != 0):\n",
    "            #If one odd char already found return false\n",
    "            if(foundOdd): return False\n",
    "            #when first odd char found return true\n",
    "            elif(not foundOdd):\n",
    "                foundOdd = True\n",
    "        \n",
    "    return True\n",
    "\n",
    "\n",
    "            "
   ]
  },
  {
   "cell_type": "code",
   "execution_count": 69,
   "metadata": {},
   "outputs": [
    {
     "data": {
      "text/plain": [
       "True"
      ]
     },
     "execution_count": 69,
     "metadata": {},
     "output_type": "execute_result"
    }
   ],
   "source": [
    "checkPalindromePerm(\"nnuurrsse\")"
   ]
  },
  {
   "cell_type": "markdown",
   "metadata": {},
   "source": [
    "### 1.5 Check if string is one edit away from another string\n",
    "e.g 'ple' is one edit away from \"pale\"\n",
    "or 'bake' is one edit away from 'cake'"
   ]
  },
  {
   "cell_type": "code",
   "execution_count": 73,
   "metadata": {},
   "outputs": [],
   "source": [
    "def oneEditAway(s1,s2):\n",
    "    #false if difference between them is greater than 1\n",
    "    if(abs(len(s2)- len(s1)) >1): \n",
    "        return False\n",
    "    \n",
    "    #if same length check for one difference\n",
    "    elif(len(s1) == len(s2)):\n",
    "        foundDiff = False\n",
    "        #check if elements and allow one difference\n",
    "        for i in range(len(s1)):\n",
    "            if(s1[i] != s2[i]):\n",
    "                if(not foundDiff):\n",
    "                    foundDiff =True\n",
    "                else: return False\n",
    "        return True\n",
    "    \n",
    "    \n",
    "    else:\n",
    "        #when diffrent lengths find shorter and longer strings\n",
    "        if(len(s1) > len(s2)):\n",
    "            short = s2\n",
    "            long =s1\n",
    "        else:\n",
    "            short = s1\n",
    "            long =s2\n",
    "\n",
    "        #indexes for strings\n",
    "        i = 0\n",
    "        j = 0\n",
    "        \n",
    "        foundMissing = False\n",
    "        while(i<len(short) and j<len(long)):\n",
    "\n",
    "            #Allow one missing character between the strings\n",
    "            if(short[i] != long[j]):\n",
    "                #increment long string index\n",
    "                if(not foundMissing):\n",
    "                    j+=1\n",
    "                    foundMissing = True\n",
    "                else:\n",
    "                    return False #triggered when one missing already found\n",
    "            else:\n",
    "                i+=1\n",
    "                j+=1\n",
    "        return True"
   ]
  },
  {
   "cell_type": "markdown",
   "metadata": {},
   "source": [
    "#### Test Cases for 1.5\n"
   ]
  },
  {
   "cell_type": "code",
   "execution_count": 72,
   "metadata": {},
   "outputs": [
    {
     "name": "stdout",
     "output_type": "stream",
     "text": [
      "True\n",
      "True\n",
      "True\n",
      "True\n",
      "False\n",
      "False\n"
     ]
    }
   ],
   "source": [
    "print(oneEditAway(\"ple\",\"pale\"))\n",
    "print(oneEditAway(\"boat\", \"goat\"))\n",
    "print(oneEditAway(\"bale\",\"pale\"))\n",
    "print(oneEditAway(\"comma\", \"coma\"))\n",
    "print(oneEditAway(\"gif\",\"bift\"))\n",
    "print(oneEditAway(\"duck\", \"lock\"))\n"
   ]
  },
  {
   "cell_type": "markdown",
   "metadata": {},
   "source": [
    "### 1.6 Compress String.. e.g aaabcccdddd = a3b1c3d4"
   ]
  },
  {
   "cell_type": "code",
   "execution_count": 127,
   "metadata": {},
   "outputs": [],
   "source": [
    "# ||\n",
    "#aaaabbbcdddd\n",
    "\n",
    "\n",
    "def compressString(s):\n",
    "    newString = ''\n",
    "    charCount = 1\n",
    "    \n",
    "    i = 0\n",
    "    j = 1\n",
    "    \n",
    "    while(j<len(s)):\n",
    "        \n",
    "        #if prev and current same then increase count\n",
    "        if(s[i] == s[j]):\n",
    "            charCount += 1\n",
    "        #when prev not same then append char and number\n",
    "        else:\n",
    "            newString += str(s[i])\n",
    "            newString += str(charCount)    \n",
    "            charCount = 1\n",
    "            \n",
    "        #for the last index of string add it to newString\n",
    "        if(j == (len(s)-1)):\n",
    "            newString += s[j]\n",
    "            newString += str(charCount)\n",
    "                \n",
    "                \n",
    "        i+=1\n",
    "        j+=1\n",
    "    #if compressed string greater in length than original string then return original string\n",
    "    if(len(s) <= len(newString)):\n",
    "        return s\n",
    "            \n",
    "    return newString    \n",
    "        \n",
    "        "
   ]
  },
  {
   "cell_type": "markdown",
   "metadata": {},
   "source": [
    "#### Test cases for 1.6"
   ]
  },
  {
   "cell_type": "code",
   "execution_count": 135,
   "metadata": {},
   "outputs": [
    {
     "name": "stdout",
     "output_type": "stream",
     "text": [
      "a4b4c2d5\n",
      "a3b5c2d5\n",
      "a2b5c3d5\n",
      "e3g3c1h1f3d2\n",
      "j3k3g3e4t1\n"
     ]
    }
   ],
   "source": [
    "print(compressString(\"aaaabbbbccddddd\"))\n",
    "print(compressString(\"aaabbbbbccddddd\"))\n",
    "print(compressString(\"aabbbbbcccddddd\"))\n",
    "print(compressString(\"eeegggchfffdd\"))\n",
    "print(compressString(\"jjjkkkgggeeeet\"))\n"
   ]
  },
  {
   "cell_type": "markdown",
   "metadata": {},
   "source": [
    "### Rotate Matrix in place"
   ]
  },
  {
   "cell_type": "code",
   "execution_count": 1,
   "metadata": {},
   "outputs": [],
   "source": [
    "rows, cols = (5, 5) \n",
    "# create Matrix \n",
    "arr = [[0 for i in range(cols)] for j in range(rows)] "
   ]
  },
  {
   "cell_type": "code",
   "execution_count": 2,
   "metadata": {},
   "outputs": [],
   "source": [
    "import random\n",
    "## Insert random values in 2D matrix\n",
    "for i in range(rows):\n",
    "    for j in range(cols):\n",
    "        arr[i][j] = random.randint(0,21)"
   ]
  },
  {
   "cell_type": "code",
   "execution_count": 159,
   "metadata": {},
   "outputs": [],
   "source": [
    "#func to print matrix\n",
    "def printMatrix(mat):\n",
    "    for row in mat:\n",
    "        print(row)"
   ]
  },
  {
   "cell_type": "code",
   "execution_count": 160,
   "metadata": {},
   "outputs": [],
   "source": [
    "def rotateMatrix(matrix):\n",
    "    if(len(matrix) == 0 or (len(matrix) != len(matrix[0]))):\n",
    "        print(\"Matrix is not square\")\n",
    "        return False\n",
    "    n = len(matrix)   \n",
    "    for layer in range(0, n//2):\n",
    "        first = layer\n",
    "        last = n - 1- layer\n",
    "        for i in range(first,last):\n",
    "            offset = i - first\n",
    "            \n",
    "            top = matrix[first][i] #Save the top value\n",
    "            \n",
    "            ## Move left to top\n",
    "            matrix[first][i] = matrix[last-offset][first]\n",
    "            \n",
    "            ## Move bottom to left\n",
    "            matrix[last-offset][first]=  matrix[last][last-offset]\n",
    "            \n",
    "            ##Move Right to Bottom\n",
    "            matrix[last][last-offset] = matrix[i][last]\n",
    "            \n",
    "            ##Move top to left\n",
    "            matrix[i][last] = top\n",
    "    return matrix\n",
    "    "
   ]
  },
  {
   "cell_type": "code",
   "execution_count": 161,
   "metadata": {},
   "outputs": [
    {
     "name": "stdout",
     "output_type": "stream",
     "text": [
      "[2, 11, 6, 18, 4]\n",
      "[1, 5, 1, 6, 8]\n",
      "[2, 16, 6, 10, 3]\n",
      "[7, 9, 15, 3, 6]\n",
      "[5, 2, 10, 4, 10]\n"
     ]
    }
   ],
   "source": [
    "printMatrix(arr)"
   ]
  },
  {
   "cell_type": "code",
   "execution_count": 162,
   "metadata": {},
   "outputs": [
    {
     "name": "stdout",
     "output_type": "stream",
     "text": [
      "[5, 7, 2, 1, 2]\n",
      "[2, 9, 16, 5, 11]\n",
      "[10, 15, 6, 1, 6]\n",
      "[4, 3, 10, 6, 18]\n",
      "[10, 6, 3, 8, 4]\n"
     ]
    }
   ],
   "source": [
    "printMatrix(rotateMatrix(arr))"
   ]
  },
  {
   "cell_type": "markdown",
   "metadata": {},
   "source": [
    "### Zero Out row if 0 is found in row (in place)"
   ]
  },
  {
   "cell_type": "code",
   "execution_count": 163,
   "metadata": {},
   "outputs": [],
   "source": [
    "rows, cols = (5, 5) \n",
    "#Initialize matrix \n",
    "mat = [[0 for i in range(cols)] for j in range(rows)] "
   ]
  },
  {
   "cell_type": "code",
   "execution_count": 172,
   "metadata": {},
   "outputs": [],
   "source": [
    "##Generate new random Matrix\n",
    "def generateRandom(mat):\n",
    "    for i in range(rows):\n",
    "        for j in range(cols):\n",
    "            mat[i][j] = random.randint(-5,21)\n",
    "        "
   ]
  },
  {
   "cell_type": "code",
   "execution_count": 167,
   "metadata": {},
   "outputs": [],
   "source": [
    "##helper functions to nullify row and cols\n",
    "\n",
    "def nullifyRow(mat, j):\n",
    "    col = len(mat[0])\n",
    "    \n",
    "    for i in range(0,col):\n",
    "        mat[j][i] = 0\n",
    "    \n",
    "def nullifyCol(mat, j):\n",
    "    row = len(mat)\n",
    "    \n",
    "    for i in range(0,row):\n",
    "        mat[i][j] = 0\n",
    "    "
   ]
  },
  {
   "cell_type": "code",
   "execution_count": 168,
   "metadata": {},
   "outputs": [],
   "source": [
    "def zeroMatrix(mat):\n",
    "    \n",
    "    #length of row and column\n",
    "    row = len(mat)\n",
    "    col = len(mat[0])\n",
    "    \n",
    "    firstRowHasZero = False\n",
    "    firstColHasZero = False\n",
    "    \n",
    "    #check if first row has zero\n",
    "    for j in range(len(mat)):\n",
    "        if(mat[0][j] == 0):\n",
    "            firstRowHasZero= True\n",
    "        \n",
    "    #check if first col has zero\n",
    "    for i in range(len(mat[0])):\n",
    "        if(mat[i][0] == 0):\n",
    "            firstColHasZero= True\n",
    "    \n",
    "    #check for zeroes in other rows and cols and project them on first row and col\n",
    "    for i in range(1,row):\n",
    "        for j in range(1,col):\n",
    "            if(mat[i][j] == 0):\n",
    "    \n",
    "                mat[i][0] = 0\n",
    "                mat[0][j] = 0\n",
    "                print(f\"Found Zero!{i, j}\")\n",
    "    \n",
    "    printMatrix(mat)\n",
    "    \n",
    "    \n",
    "    #Null the rows based on zeroes in first column\n",
    "    for j in range(row):\n",
    "        if(mat[j][0] == 0): \n",
    "            nullifyRow(mat, j)\n",
    "    \n",
    "    #Null the cols based on zeroes in first row\n",
    "    for i in range(col):\n",
    "        if(mat[0][i] == 0): \n",
    "            nullifyCol(mat, i)\n",
    "    \n",
    "    ##if first row or col contained 0 then null them\n",
    "    if(firstRowHasZero):\n",
    "        nullifyCol(mat, 0)\n",
    "    if(firstColHasZero):\n",
    "        nullifyRow(mat, 0)\n",
    "    "
   ]
  },
  {
   "cell_type": "code",
   "execution_count": 173,
   "metadata": {},
   "outputs": [],
   "source": [
    "generateRandom(mat)"
   ]
  },
  {
   "cell_type": "code",
   "execution_count": 174,
   "metadata": {},
   "outputs": [
    {
     "name": "stdout",
     "output_type": "stream",
     "text": [
      "[6, -4, 7, 11, 10]\n",
      "[9, -2, -4, 5, 18]\n",
      "[13, 12, 16, 13, 18]\n",
      "[6, 4, 0, 0, 20]\n",
      "[2, 11, 11, -5, -1]\n"
     ]
    }
   ],
   "source": [
    "printMatrix(mat)"
   ]
  },
  {
   "cell_type": "code",
   "execution_count": 175,
   "metadata": {},
   "outputs": [
    {
     "name": "stdout",
     "output_type": "stream",
     "text": [
      "Found Zero!(3, 2)\n",
      "Found Zero!(3, 3)\n",
      "[6, -4, 0, 0, 10]\n",
      "[9, -2, -4, 5, 18]\n",
      "[13, 12, 16, 13, 18]\n",
      "[0, 4, 0, 0, 20]\n",
      "[2, 11, 11, -5, -1]\n"
     ]
    }
   ],
   "source": [
    "zeroMatrix(mat)"
   ]
  },
  {
   "cell_type": "code",
   "execution_count": 176,
   "metadata": {},
   "outputs": [
    {
     "name": "stdout",
     "output_type": "stream",
     "text": [
      "[6, -4, 0, 0, 10]\n",
      "[9, -2, 0, 0, 18]\n",
      "[13, 12, 0, 0, 18]\n",
      "[0, 0, 0, 0, 0]\n",
      "[2, 11, 0, 0, -1]\n"
     ]
    }
   ],
   "source": [
    "printMatrix(mat)"
   ]
  },
  {
   "cell_type": "code",
   "execution_count": null,
   "metadata": {},
   "outputs": [],
   "source": []
  },
  {
   "cell_type": "markdown",
   "metadata": {},
   "source": [
    "### Check if String is rotation of another\n",
    "\n",
    "e.g \n",
    "- waterbottle & erbottlewat ---> True\n",
    "- destiny & tinydes ---> True\n",
    "\n"
   ]
  },
  {
   "cell_type": "markdown",
   "metadata": {},
   "source": [
    "Thought Process: It can be seen that\n",
    "\n",
    "- if x= waterbottle and y = erbottlewat\n",
    "- then yy= erbottle'waterbottle' \n",
    "- x is substring of yy always\n",
    "- so we compare yy with x to check if it is substring"
   ]
  },
  {
   "cell_type": "code",
   "execution_count": 177,
   "metadata": {},
   "outputs": [],
   "source": [
    "def checkRotationString(x,y):\n",
    "    yy = y+y\n",
    "    \n",
    "    if(yy.find(x) >=0):\n",
    "        return True\n",
    "    return False"
   ]
  },
  {
   "cell_type": "code",
   "execution_count": 183,
   "metadata": {},
   "outputs": [
    {
     "data": {
      "text/plain": [
       "True"
      ]
     },
     "execution_count": 183,
     "metadata": {},
     "output_type": "execute_result"
    }
   ],
   "source": [
    "x= 'waterbottle'\n",
    "y= 'erbottlewat'\n",
    "checkRotationString(x,y)"
   ]
  },
  {
   "cell_type": "code",
   "execution_count": null,
   "metadata": {},
   "outputs": [],
   "source": []
  }
 ],
 "metadata": {
  "kernelspec": {
   "display_name": "Python 3",
   "language": "python",
   "name": "python3"
  },
  "language_info": {
   "codemirror_mode": {
    "name": "ipython",
    "version": 3
   },
   "file_extension": ".py",
   "mimetype": "text/x-python",
   "name": "python",
   "nbconvert_exporter": "python",
   "pygments_lexer": "ipython3",
   "version": "3.7.3"
  }
 },
 "nbformat": 4,
 "nbformat_minor": 2
}

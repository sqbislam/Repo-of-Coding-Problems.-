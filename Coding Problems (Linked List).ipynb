{
 "cells": [
  {
   "cell_type": "code",
   "execution_count": 8,
   "metadata": {},
   "outputs": [],
   "source": [
    "class Node:\n",
    "    \n",
    "    def __init__(self,val, nex):\n",
    "        self.val = val\n",
    "        self.nex = nex"
   ]
  },
  {
   "cell_type": "code",
   "execution_count": 12,
   "metadata": {},
   "outputs": [],
   "source": [
    "n = Node(5, None)"
   ]
  },
  {
   "cell_type": "code",
   "execution_count": 65,
   "metadata": {},
   "outputs": [],
   "source": [
    "class LinkedList:\n",
    "    def __init__(self):\n",
    "        self.head = None\n",
    "        self.tail = None\n",
    "        self.size = 0\n",
    "    \n",
    "    def addNode(self, val):\n",
    "        if(self.head == None):\n",
    "            self.head = Node(val, None)\n",
    "            self.tail = self.head\n",
    "            self.size+=1\n",
    "        else:\n",
    "            n =  Node(val,None)\n",
    "            self.tail.nex = n\n",
    "            self.tail = n\n",
    "            self.size+=1\n",
    "        \n",
    "    def __repr__(self):\n",
    "        n = self.head\n",
    "        while(n != None):\n",
    "            print(n.val, end=\" \")\n",
    "            n= n.nex\n",
    "        return ''\n",
    "            \n",
    "            "
   ]
  },
  {
   "cell_type": "code",
   "execution_count": 76,
   "metadata": {},
   "outputs": [],
   "source": [
    "ll = LinkedList()"
   ]
  },
  {
   "cell_type": "code",
   "execution_count": 77,
   "metadata": {},
   "outputs": [],
   "source": [
    "ll.addNode(5)\n",
    "ll.addNode(6)\n",
    "ll.addNode(7)"
   ]
  },
  {
   "cell_type": "code",
   "execution_count": 78,
   "metadata": {},
   "outputs": [
    {
     "name": "stdout",
     "output_type": "stream",
     "text": [
      "5 6 7 \n"
     ]
    }
   ],
   "source": [
    "print(ll)"
   ]
  },
  {
   "cell_type": "code",
   "execution_count": 79,
   "metadata": {},
   "outputs": [],
   "source": [
    "ll2 = LinkedList()"
   ]
  },
  {
   "cell_type": "code",
   "execution_count": 80,
   "metadata": {},
   "outputs": [],
   "source": [
    "ll2.addNode(6)\n",
    "ll2.addNode(5)\n",
    "ll2.addNode(3)"
   ]
  },
  {
   "cell_type": "code",
   "execution_count": 81,
   "metadata": {},
   "outputs": [
    {
     "name": "stdout",
     "output_type": "stream",
     "text": [
      "6 5 3 \n"
     ]
    }
   ],
   "source": [
    "print(ll2)"
   ]
  },
  {
   "cell_type": "markdown",
   "metadata": {},
   "source": [
    "### Remove Duplicates from LinkedList"
   ]
  },
  {
   "cell_type": "code",
   "execution_count": 140,
   "metadata": {},
   "outputs": [],
   "source": [
    "#Generate random LinkedList\n",
    "import random\n",
    "\n",
    "def generateRandomLinkedList(n):\n",
    "    ll = LinkedList()\n",
    "\n",
    "    for i in range(n):\n",
    "        val = random.randint(0,9)\n",
    "        ll.addNode(val)\n",
    "    return ll"
   ]
  },
  {
   "cell_type": "code",
   "execution_count": 142,
   "metadata": {},
   "outputs": [
    {
     "name": "stdout",
     "output_type": "stream",
     "text": [
      "2 1 6 8 4 7 2 4 \n"
     ]
    }
   ],
   "source": [
    "ll = generateRandomLinkedList(8)\n",
    "print(ll)"
   ]
  },
  {
   "cell_type": "code",
   "execution_count": 143,
   "metadata": {},
   "outputs": [],
   "source": [
    "\n",
    "def removeDups(ll):\n",
    "    #dictionary to keep track of numbers\n",
    "    repo = dict()\n",
    "    \n",
    "    \n",
    "    n= ll.head\n",
    "    prev = None\n",
    "    \n",
    "    while(n!=None):\n",
    "        #if number not in dict. Add it to dict and mark prev=currentNode\n",
    "        if n.val not in repo:\n",
    "            repo[n.val] = 1\n",
    "            prev=n\n",
    "        else:\n",
    "            #if number already exists in dict then skip over that node. prev.next = curr.next\n",
    "            remove = n\n",
    "            prev.nex = n.nex\n",
    "            remove=None\n",
    "            \n",
    "        n=n.nex\n",
    "    \n",
    "    "
   ]
  },
  {
   "cell_type": "code",
   "execution_count": 144,
   "metadata": {},
   "outputs": [],
   "source": [
    "removeDups(ll)"
   ]
  },
  {
   "cell_type": "code",
   "execution_count": 145,
   "metadata": {},
   "outputs": [
    {
     "name": "stdout",
     "output_type": "stream",
     "text": [
      "2 1 6 8 4 7 \n"
     ]
    }
   ],
   "source": [
    "print(ll)"
   ]
  },
  {
   "cell_type": "markdown",
   "metadata": {},
   "source": [
    "### Remove duplicate from unsorted LinkedList without use of buffer."
   ]
  },
  {
   "cell_type": "code",
   "execution_count": 146,
   "metadata": {},
   "outputs": [],
   "source": [
    "def removeDupsNoBuffer(ll):\n",
    "    curr = ll.head\n",
    "    \n",
    "    \n",
    "    while(curr!=None):\n",
    "        ahead = curr\n",
    "        #remove all occurences of curr.val \n",
    "        while(ahead.nex !=None ):\n",
    "            if(ahead.nex.val == curr.val):\n",
    "                remove = ahead\n",
    "                ahead.nex = ahead.nex.nex\n",
    "                remove = None\n",
    "            else:\n",
    "                ahead = ahead.nex\n",
    "        curr=curr.nex\n",
    "    print(ll)"
   ]
  },
  {
   "cell_type": "code",
   "execution_count": 147,
   "metadata": {},
   "outputs": [
    {
     "name": "stdout",
     "output_type": "stream",
     "text": [
      "8 2 0 9 4 1 3 7 1 9 \n"
     ]
    }
   ],
   "source": [
    "ll = generateRandomLinkedList(10)\n",
    "print(ll)"
   ]
  },
  {
   "cell_type": "code",
   "execution_count": 148,
   "metadata": {},
   "outputs": [
    {
     "name": "stdout",
     "output_type": "stream",
     "text": [
      "8 2 0 9 4 1 3 7 \n"
     ]
    }
   ],
   "source": [
    "removeDupsNoBuffer(ll)"
   ]
  },
  {
   "cell_type": "code",
   "execution_count": null,
   "metadata": {},
   "outputs": [],
   "source": []
  }
 ],
 "metadata": {
  "kernelspec": {
   "display_name": "Python 3",
   "language": "python",
   "name": "python3"
  },
  "language_info": {
   "codemirror_mode": {
    "name": "ipython",
    "version": 3
   },
   "file_extension": ".py",
   "mimetype": "text/x-python",
   "name": "python",
   "nbconvert_exporter": "python",
   "pygments_lexer": "ipython3",
   "version": "3.7.3"
  }
 },
 "nbformat": 4,
 "nbformat_minor": 2
}

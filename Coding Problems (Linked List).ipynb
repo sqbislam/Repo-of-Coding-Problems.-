{
 "cells": [
  {
   "cell_type": "code",
   "execution_count": 1,
   "metadata": {},
   "outputs": [],
   "source": [
    "class Node:\n",
    "    \n",
    "    def __init__(self,val, nex):\n",
    "        self.val = val\n",
    "        self.nex = nex"
   ]
  },
  {
   "cell_type": "code",
   "execution_count": 2,
   "metadata": {},
   "outputs": [],
   "source": [
    "n = Node(5, None)"
   ]
  },
  {
   "cell_type": "code",
   "execution_count": 78,
   "metadata": {},
   "outputs": [],
   "source": [
    "class LinkedList:\n",
    "    def __init__(self):\n",
    "        self.head = None\n",
    "        self.tail = None\n",
    "        self.size = 0\n",
    "    \n",
    "    def addNode(self, val):\n",
    "        if(self.head == None):\n",
    "            self.head = Node(val, None)\n",
    "            self.tail = self.head\n",
    "            self.size+=1\n",
    "        else:\n",
    "            n =  Node(val,None)\n",
    "            self.tail.nex = n\n",
    "            self.tail = n\n",
    "            self.size+=1\n",
    "    \n",
    "    #get Node at certain index\n",
    "    def getNode(self, val):\n",
    "        curr = self.head\n",
    "        for i in range(val):\n",
    "            curr = curr.nex\n",
    "        return curr\n",
    "    \n",
    "\n",
    "    ##To print linked list when object is printed \n",
    "    def __repr__(self):\n",
    "        n = self.head\n",
    "        while(n != None):\n",
    "            print(n.val, end=\" \")\n",
    "            n= n.nex\n",
    "        return ''\n",
    "    \n",
    "    def __len__(self):\n",
    "        return self.size\n",
    "            "
   ]
  },
  {
   "cell_type": "code",
   "execution_count": 4,
   "metadata": {},
   "outputs": [],
   "source": [
    "ll = LinkedList()"
   ]
  },
  {
   "cell_type": "code",
   "execution_count": 5,
   "metadata": {},
   "outputs": [],
   "source": [
    "ll.addNode(5)\n",
    "ll.addNode(6)\n",
    "ll.addNode(7)"
   ]
  },
  {
   "cell_type": "code",
   "execution_count": 6,
   "metadata": {},
   "outputs": [
    {
     "name": "stdout",
     "output_type": "stream",
     "text": [
      "5 6 7 \n"
     ]
    }
   ],
   "source": [
    "print(ll)"
   ]
  },
  {
   "cell_type": "code",
   "execution_count": 7,
   "metadata": {},
   "outputs": [],
   "source": [
    "ll2 = LinkedList()"
   ]
  },
  {
   "cell_type": "code",
   "execution_count": 8,
   "metadata": {},
   "outputs": [],
   "source": [
    "ll2.addNode(6)\n",
    "ll2.addNode(5)\n",
    "ll2.addNode(3)"
   ]
  },
  {
   "cell_type": "code",
   "execution_count": 9,
   "metadata": {},
   "outputs": [
    {
     "name": "stdout",
     "output_type": "stream",
     "text": [
      "6 5 3 \n"
     ]
    }
   ],
   "source": [
    "print(ll2)"
   ]
  },
  {
   "cell_type": "markdown",
   "metadata": {},
   "source": [
    "### Remove Duplicates from LinkedList"
   ]
  },
  {
   "cell_type": "code",
   "execution_count": 10,
   "metadata": {},
   "outputs": [],
   "source": [
    "#Generate random LinkedList\n",
    "import random\n",
    "\n",
    "def generateRandomLinkedList(n):\n",
    "    ll = LinkedList()\n",
    "\n",
    "    for i in range(n):\n",
    "        val = random.randint(0,9)\n",
    "        ll.addNode(val)\n",
    "    return ll"
   ]
  },
  {
   "cell_type": "code",
   "execution_count": 11,
   "metadata": {},
   "outputs": [
    {
     "name": "stdout",
     "output_type": "stream",
     "text": [
      "1 6 0 3 5 4 7 8 \n"
     ]
    }
   ],
   "source": [
    "ll = generateRandomLinkedList(8)\n",
    "print(ll)"
   ]
  },
  {
   "cell_type": "code",
   "execution_count": 12,
   "metadata": {},
   "outputs": [],
   "source": [
    "\n",
    "def removeDups(ll):\n",
    "    #dictionary to keep track of numbers\n",
    "    repo = dict()\n",
    "    \n",
    "    \n",
    "    n= ll.head\n",
    "    prev = None\n",
    "    \n",
    "    while(n!=None):\n",
    "        #if number not in dict. Add it to dict and mark prev=currentNode\n",
    "        if n.val not in repo:\n",
    "            repo[n.val] = 1\n",
    "            prev=n\n",
    "        else:\n",
    "            #if number already exists in dict then skip over that node. prev.next = curr.next\n",
    "            remove = n\n",
    "            prev.nex = n.nex\n",
    "            remove=None\n",
    "            \n",
    "        n=n.nex\n",
    "    \n",
    "    "
   ]
  },
  {
   "cell_type": "code",
   "execution_count": 13,
   "metadata": {},
   "outputs": [],
   "source": [
    "removeDups(ll)"
   ]
  },
  {
   "cell_type": "code",
   "execution_count": 14,
   "metadata": {},
   "outputs": [
    {
     "name": "stdout",
     "output_type": "stream",
     "text": [
      "1 6 0 3 5 4 7 8 \n"
     ]
    }
   ],
   "source": [
    "print(ll)"
   ]
  },
  {
   "cell_type": "markdown",
   "metadata": {},
   "source": [
    "### Remove duplicate from unsorted LinkedList without use of buffer."
   ]
  },
  {
   "cell_type": "code",
   "execution_count": 15,
   "metadata": {},
   "outputs": [],
   "source": [
    "def removeDupsNoBuffer(ll):\n",
    "    curr = ll.head\n",
    "    \n",
    "    \n",
    "    while(curr!=None):\n",
    "        ahead = curr\n",
    "        #remove all occurences of curr.val \n",
    "        while(ahead.nex !=None ):\n",
    "            if(ahead.nex.val == curr.val):\n",
    "                remove = ahead\n",
    "                ahead.nex = ahead.nex.nex\n",
    "                remove = None\n",
    "            else:\n",
    "                ahead = ahead.nex\n",
    "        curr=curr.nex\n",
    "    print(ll)"
   ]
  },
  {
   "cell_type": "code",
   "execution_count": 16,
   "metadata": {},
   "outputs": [
    {
     "name": "stdout",
     "output_type": "stream",
     "text": [
      "4 0 6 7 2 1 5 5 7 0 \n"
     ]
    }
   ],
   "source": [
    "ll = generateRandomLinkedList(10)\n",
    "print(ll)"
   ]
  },
  {
   "cell_type": "code",
   "execution_count": 17,
   "metadata": {},
   "outputs": [
    {
     "name": "stdout",
     "output_type": "stream",
     "text": [
      "4 0 6 7 2 1 5 \n"
     ]
    }
   ],
   "source": [
    "removeDupsNoBuffer(ll)"
   ]
  },
  {
   "cell_type": "markdown",
   "metadata": {},
   "source": [
    "### Return k-th to last element in linked list\n",
    "\n",
    "eg k=3,\n",
    "- LinkedList = 1-->5-->3-->6-->9-->2-->5\n",
    "- 3rd to last =-----------------------^\n"
   ]
  },
  {
   "cell_type": "markdown",
   "metadata": {},
   "source": [
    "Intuition:\n",
    "Run two pointers one starts at head and one is k nodes ahead of that.\n",
    "when second pointer hits end return the value at first pointer"
   ]
  },
  {
   "cell_type": "code",
   "execution_count": 18,
   "metadata": {},
   "outputs": [
    {
     "name": "stdout",
     "output_type": "stream",
     "text": [
      "3 1 1 6 5 0 3 6 "
     ]
    },
    {
     "data": {
      "text/plain": []
     },
     "execution_count": 18,
     "metadata": {},
     "output_type": "execute_result"
    }
   ],
   "source": [
    "ll = generateRandomLinkedList(8)\n",
    "ll\n"
   ]
  },
  {
   "cell_type": "code",
   "execution_count": 19,
   "metadata": {},
   "outputs": [],
   "source": [
    "def kthToLast(ll, k):\n",
    "    first = ll.head\n",
    "    \n",
    "    second = first\n",
    "    for i in range(k):\n",
    "        if(second!=None):\n",
    "            second = second.nex\n",
    "        else:\n",
    "            print(\"Length of list is less than k\")\n",
    "            return\n",
    "    \n",
    "    while(second!=None):\n",
    "        first = first.nex\n",
    "        second = second.nex\n",
    "    return first.val\n",
    "    \n",
    "        \n",
    "    "
   ]
  },
  {
   "cell_type": "code",
   "execution_count": 20,
   "metadata": {},
   "outputs": [
    {
     "name": "stdout",
     "output_type": "stream",
     "text": [
      "3 1 1 6 5 0 3 6 \n"
     ]
    },
    {
     "data": {
      "text/plain": [
       "5"
      ]
     },
     "execution_count": 20,
     "metadata": {},
     "output_type": "execute_result"
    }
   ],
   "source": [
    "print(ll)\n",
    "kthToLast(ll,4)"
   ]
  },
  {
   "cell_type": "markdown",
   "metadata": {},
   "source": [
    "### Delete middle node given only access to that Node"
   ]
  },
  {
   "cell_type": "code",
   "execution_count": 21,
   "metadata": {},
   "outputs": [
    {
     "name": "stdout",
     "output_type": "stream",
     "text": [
      "7 2 1 7 6 6 1 6 "
     ]
    },
    {
     "data": {
      "text/plain": []
     },
     "execution_count": 21,
     "metadata": {},
     "output_type": "execute_result"
    }
   ],
   "source": [
    "ll =generateRandomLinkedList(8)\n",
    "ll"
   ]
  },
  {
   "cell_type": "code",
   "execution_count": 22,
   "metadata": {},
   "outputs": [],
   "source": [
    "rand = ll.getNode(4)"
   ]
  },
  {
   "cell_type": "code",
   "execution_count": 23,
   "metadata": {},
   "outputs": [
    {
     "data": {
      "text/plain": [
       "6"
      ]
     },
     "execution_count": 23,
     "metadata": {},
     "output_type": "execute_result"
    }
   ],
   "source": [
    "rand.val"
   ]
  },
  {
   "cell_type": "code",
   "execution_count": 24,
   "metadata": {},
   "outputs": [],
   "source": [
    "def removeNode(rand):\n",
    "    if(rand.nex == None):\n",
    "        print('tail cannot be removed')\n",
    "        return\n",
    "    \n",
    "    temp = rand.nex\n",
    "    rand.val = temp.val\n",
    "    rand.nex = temp.nex\n",
    "    temp = None\n",
    "    \n",
    "    \n",
    "    "
   ]
  },
  {
   "cell_type": "code",
   "execution_count": 25,
   "metadata": {},
   "outputs": [
    {
     "name": "stdout",
     "output_type": "stream",
     "text": [
      "7 2 1 7 6 1 6 "
     ]
    },
    {
     "data": {
      "text/plain": []
     },
     "execution_count": 25,
     "metadata": {},
     "output_type": "execute_result"
    }
   ],
   "source": [
    "removeNode(rand)\n",
    "ll"
   ]
  },
  {
   "cell_type": "markdown",
   "metadata": {},
   "source": [
    "### Partition linked list based on a given value\n",
    "\n",
    "- e.g  6 -> 2 -> 4 -> 11 -> 9 -> 1 -> 3\n",
    "- partition on number **4**\n",
    "- Result = 2 -> 1 -> 3 -> **4** -> 6 -> 9 -> 11 "
   ]
  },
  {
   "cell_type": "code",
   "execution_count": null,
   "metadata": {},
   "outputs": [],
   "source": []
  },
  {
   "cell_type": "code",
   "execution_count": 33,
   "metadata": {},
   "outputs": [],
   "source": [
    "def partitionList(llNode, n):\n",
    "    \n",
    "    \n",
    "    resListhead = llNode\n",
    "    resListtail = llNode\n",
    "    \n",
    "    while(llNode != None):\n",
    "        nextNode = llNode.nex\n",
    "        \n",
    "        if(llNode.val <= n):\n",
    "            ## Add Node to head\n",
    "            llNode.nex = resListhead\n",
    "            resListhead = llNode \n",
    "        else:\n",
    "             ## Add Node to tail.\n",
    "            \n",
    "            resListtail.nex = llNode\n",
    "            resListtail = llNode\n",
    "        \n",
    "        llNode = nextNode\n",
    "        \n",
    "    resListtail.nex = None\n",
    "    return resListhead\n",
    "\n",
    "    \n",
    "    "
   ]
  },
  {
   "cell_type": "code",
   "execution_count": 40,
   "metadata": {},
   "outputs": [
    {
     "name": "stdout",
     "output_type": "stream",
     "text": [
      "9 4 3 3 7 3 6 4 "
     ]
    },
    {
     "data": {
      "text/plain": []
     },
     "execution_count": 40,
     "metadata": {},
     "output_type": "execute_result"
    }
   ],
   "source": [
    "lltest =generateRandomLinkedList(8)\n",
    "lltest\n"
   ]
  },
  {
   "cell_type": "code",
   "execution_count": 41,
   "metadata": {},
   "outputs": [],
   "source": [
    "\n",
    "res = partitionList(lltest.head,4)\n"
   ]
  },
  {
   "cell_type": "code",
   "execution_count": 42,
   "metadata": {},
   "outputs": [
    {
     "name": "stdout",
     "output_type": "stream",
     "text": [
      "4 3 3 3 4 9 7 6 "
     ]
    }
   ],
   "source": [
    "while(res !=None):\n",
    "    print(res.val, end=\" \")\n",
    "    res = res.nex"
   ]
  },
  {
   "cell_type": "code",
   "execution_count": null,
   "metadata": {},
   "outputs": [],
   "source": []
  },
  {
   "cell_type": "markdown",
   "metadata": {},
   "source": [
    "### Problem : Sum list (reverse|)"
   ]
  },
  {
   "cell_type": "code",
   "execution_count": 79,
   "metadata": {},
   "outputs": [],
   "source": [
    "ll1 = LinkedList()\n",
    "ll2 = LinkedList()"
   ]
  },
  {
   "cell_type": "code",
   "execution_count": 80,
   "metadata": {},
   "outputs": [],
   "source": [
    "ll1.addNode(4)\n",
    "ll1.addNode(2)\n",
    "ll1.addNode(7)\n",
    "###\n",
    "ll2.addNode(1)\n",
    "ll2.addNode(3)\n",
    "ll2.addNode(9)\n",
    "## Sum == 931 + 724 = 1655 "
   ]
  },
  {
   "cell_type": "code",
   "execution_count": 66,
   "metadata": {},
   "outputs": [],
   "source": [
    "def sumList(ll1,ll2, carry):\n",
    "   \n",
    "    if(ll1 == None and ll2== None and carry == 0):\n",
    "        return None\n",
    "\n",
    "    result = Node(0, None)\n",
    "    value = carry;\n",
    "    if (ll1 != None): \n",
    "        value += ll1.val\n",
    "    if (ll2 != None):\n",
    "        value += ll2.val \n",
    "\n",
    "    ## get second digit of number. Not carry.. e.g: 6 + 6 = 12...here --> value%10 = 2 and carry = 1\n",
    "    result.val = value%10;\n",
    "\n",
    "    ##Recurse to add the lists\n",
    "    if (ll1 != None or ll2 != None):\n",
    "        \n",
    "    \n",
    "        if(ll1 == None): \n",
    "            ll1 = None \n",
    "        else: \n",
    "            ll1 = ll1.nex\n",
    "            \n",
    "        if(ll2 == None): \n",
    "            ll2 = None \n",
    "        else: \n",
    "            ll2 = ll2.nex\n",
    "        \n",
    "        if(value>= 10): \n",
    "            c = 1  \n",
    "        else: \n",
    "            c = 0\n",
    "            \n",
    "        more = sumList(ll1, ll2, c)\n",
    "        result.nex = more; \n",
    "\n",
    "    return result; \n",
    "    \n",
    "        "
   ]
  },
  {
   "cell_type": "code",
   "execution_count": 67,
   "metadata": {},
   "outputs": [],
   "source": [
    "res = sumList(ll1.head,ll2.head, 0)"
   ]
  },
  {
   "cell_type": "code",
   "execution_count": 68,
   "metadata": {},
   "outputs": [
    {
     "name": "stdout",
     "output_type": "stream",
     "text": [
      "5 5 6 1 "
     ]
    }
   ],
   "source": [
    "while(res !=None):\n",
    "    print(res.val, end=\" \")\n",
    "    res = res.nex"
   ]
  },
  {
   "cell_type": "markdown",
   "metadata": {},
   "source": [
    "### Problem Sum lists (forward)\n",
    "\n",
    "- Pad list with zeroes if one is bigger than the other. e.g 341 + 31 == 341 + 031\n",
    "- Recurse and add node values to head of result\n"
   ]
  },
  {
   "cell_type": "code",
   "execution_count": 119,
   "metadata": {},
   "outputs": [
    {
     "name": "stdout",
     "output_type": "stream",
     "text": [
      "3\n",
      "2\n"
     ]
    }
   ],
   "source": [
    "#helper funcs \n",
    "class PartialSum:\n",
    "    def __init__(self):\n",
    "        self.sum = None\n",
    "        self.carry = 0\n",
    "    \n",
    "        \n",
    "def padZeros(ll, n):\n",
    "    head= ll\n",
    "    for i in range(n):\n",
    "        head = insertBefore(head, 0)\n",
    "    return head;\n",
    "def insertBefore(ll, data):\n",
    "    node= Node(data, None)\n",
    "    if (ll != None) :\n",
    "        node.nex= ll\n",
    "    \n",
    "    return node; \n",
    "    \n",
    "print(len(ll1))\n",
    "print(len(ll2))\n",
    "\n",
    "def addLists(ll1, ll2):\n",
    "    if(ll1 == None and ll2 ==None):\n",
    "        sumList:PartialSum = PartialSum()\n",
    "        return sumList\n",
    "    #Add small digits recursively, this will get called and stored in stack until it hits base case above^^\n",
    "    sumList:PartialSum = addLists(ll1.nex, ll2.nex)\n",
    "    \n",
    "    #Add carry to current\n",
    "    val = sumList.carry + ll1.val+ ll2.val\n",
    "    \n",
    "    #Add sum to current result\n",
    "    full_res:Node = insertBefore(sumList.sum, val % 10)\n",
    "        \n",
    "    #return sumList and carry so far\n",
    "    sumList.sum= full_res\n",
    "    sumList.carry = val // 10\n",
    "    return sumList\n",
    "    "
   ]
  },
  {
   "cell_type": "code",
   "execution_count": 126,
   "metadata": {},
   "outputs": [],
   "source": [
    "#342 + 34 = 342 + 034 = 376\n",
    "\n",
    "def sumListFwd(ll1,ll2):\n",
    "    s1:int = len(ll1)\n",
    "    s2:int = len(ll2)\n",
    "    ll1 = ll1.head\n",
    "    ll2 = ll2.head\n",
    "    if(s1 > s2):\n",
    "    #pad ll2\n",
    "        ll2= padZeros(ll2, (s1-s2))\n",
    "    elif(s2 > s1):\n",
    "    #pad ll1\n",
    "        ll1= padZeros(ll1, (s2-s1))\n",
    "    \n",
    "    sumList: PartialSum = addLists(ll1, ll2)\n",
    "    \n",
    "    ##if PartialSum list had carry \n",
    "    if(sumList.carry == 0):\n",
    "        return sumList.sum\n",
    "    else:\n",
    "        result:Node = insertBefore(sumList.sum, sumList.carry)\n",
    "        return result\n",
    "    \n",
    "    "
   ]
  },
  {
   "cell_type": "code",
   "execution_count": 133,
   "metadata": {},
   "outputs": [],
   "source": [
    "ll1 = LinkedList()\n",
    "ll2 = LinkedList()\n",
    "\n",
    "\n",
    "ll1.addNode(9)\n",
    "ll1.addNode(2)\n",
    "ll1.addNode(7)\n",
    "###\n",
    "ll2.addNode(9)\n",
    "ll2.addNode(3)\n",
    "\n",
    "## 927 + 93 = 927 + 093 = 1020"
   ]
  },
  {
   "cell_type": "code",
   "execution_count": 134,
   "metadata": {},
   "outputs": [],
   "source": [
    "res = sumListFwd(ll1, ll2)"
   ]
  },
  {
   "cell_type": "code",
   "execution_count": 135,
   "metadata": {},
   "outputs": [
    {
     "name": "stdout",
     "output_type": "stream",
     "text": [
      "1 0 2 0 "
     ]
    }
   ],
   "source": [
    "while(res !=None):\n",
    "    print(res.val, end=\" \")\n",
    "    res = res.nex"
   ]
  },
  {
   "cell_type": "code",
   "execution_count": null,
   "metadata": {},
   "outputs": [],
   "source": []
  }
 ],
 "metadata": {
  "kernelspec": {
   "display_name": "Python 3",
   "language": "python",
   "name": "python3"
  },
  "language_info": {
   "codemirror_mode": {
    "name": "ipython",
    "version": 3
   },
   "file_extension": ".py",
   "mimetype": "text/x-python",
   "name": "python",
   "nbconvert_exporter": "python",
   "pygments_lexer": "ipython3",
   "version": "3.7.3"
  }
 },
 "nbformat": 4,
 "nbformat_minor": 2
}
